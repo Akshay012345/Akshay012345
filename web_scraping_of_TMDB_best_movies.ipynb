{
 "cells": [
  {
   "cell_type": "code",
   "execution_count": 1,
   "id": "c0acfcf2",
   "metadata": {},
   "outputs": [],
   "source": [
    "import requests"
   ]
  },
  {
   "cell_type": "code",
   "execution_count": 2,
   "id": "55a74741",
   "metadata": {},
   "outputs": [],
   "source": [
    "from bs4 import BeautifulSoup"
   ]
  },
  {
   "cell_type": "code",
   "execution_count": 3,
   "id": "94f2de2f",
   "metadata": {},
   "outputs": [],
   "source": [
    "header = {'User-Agent':'Mozilla/5.0 (Windows NT 10.0; Win64; x64) AppleWebKit/537.36 (KHTML, like Gecko) Chrome/104.0.5112.81 Safari/537.36 Edg/104.0.1293.47'}"
   ]
  },
  {
   "cell_type": "code",
   "execution_count": 4,
   "id": "fb1679da",
   "metadata": {},
   "outputs": [],
   "source": [
    "topic_url =  'https://www.themoviedb.org/movie'"
   ]
  },
  {
   "cell_type": "code",
   "execution_count": 5,
   "id": "e2d3c45b",
   "metadata": {},
   "outputs": [],
   "source": [
    "response = requests.get(topic_url,headers = header)"
   ]
  },
  {
   "cell_type": "code",
   "execution_count": 6,
   "id": "3368f10c",
   "metadata": {},
   "outputs": [
    {
     "data": {
      "text/plain": [
       "200"
      ]
     },
     "execution_count": 6,
     "metadata": {},
     "output_type": "execute_result"
    }
   ],
   "source": [
    "response.status_code"
   ]
  },
  {
   "cell_type": "code",
   "execution_count": 7,
   "id": "96f4ef49",
   "metadata": {},
   "outputs": [
    {
     "data": {
      "text/plain": [
       "213850"
      ]
     },
     "execution_count": 7,
     "metadata": {},
     "output_type": "execute_result"
    }
   ],
   "source": [
    "len(response.text)"
   ]
  },
  {
   "cell_type": "code",
   "execution_count": 8,
   "id": "1543945f",
   "metadata": {},
   "outputs": [],
   "source": [
    "page_contents = response.text"
   ]
  },
  {
   "cell_type": "code",
   "execution_count": 9,
   "id": "514d08e7",
   "metadata": {},
   "outputs": [],
   "source": [
    "doc = BeautifulSoup(page_contents, 'html.parser')"
   ]
  },
  {
   "cell_type": "code",
   "execution_count": 12,
   "id": "3919b89a",
   "metadata": {},
   "outputs": [],
   "source": [
    "movie_tag = doc.find_all('h2')"
   ]
  },
  {
   "cell_type": "code",
   "execution_count": 25,
   "id": "06e481b7",
   "metadata": {},
   "outputs": [],
   "source": [
    "movie_name = []\n",
    "for movie in movie_tag[4::]:\n",
    "    movie_name.append(movie.a.text)\n",
    "    "
   ]
  },
  {
   "cell_type": "code",
   "execution_count": 27,
   "id": "e3015585",
   "metadata": {},
   "outputs": [
    {
     "data": {
      "text/plain": [
       "20"
      ]
     },
     "execution_count": 27,
     "metadata": {},
     "output_type": "execute_result"
    }
   ],
   "source": [
    "len(movie_name)"
   ]
  },
  {
   "cell_type": "code",
   "execution_count": 28,
   "id": "bfb0d1ef",
   "metadata": {},
   "outputs": [],
   "source": [
    "release_date_tag = doc.find_all('p')"
   ]
  },
  {
   "cell_type": "code",
   "execution_count": 32,
   "id": "ba84ff58",
   "metadata": {},
   "outputs": [],
   "source": [
    "release_date = []\n",
    "for date in release_date_tag[1::]:\n",
    "    release_date.append(date.text)\n",
    "    "
   ]
  },
  {
   "cell_type": "code",
   "execution_count": 41,
   "id": "d5a46e8c",
   "metadata": {},
   "outputs": [],
   "source": [
    "release_date1 = release_date[:-12]"
   ]
  },
  {
   "cell_type": "code",
   "execution_count": 42,
   "id": "2ebcd122",
   "metadata": {},
   "outputs": [],
   "source": [
    "link_tag = doc.find_all('a',class_=\"image\")"
   ]
  },
  {
   "cell_type": "code",
   "execution_count": 44,
   "id": "56e46c29",
   "metadata": {},
   "outputs": [
    {
     "data": {
      "text/plain": [
       "20"
      ]
     },
     "execution_count": 44,
     "metadata": {},
     "output_type": "execute_result"
    }
   ],
   "source": [
    "len(link_tag)"
   ]
  },
  {
   "cell_type": "code",
   "execution_count": 45,
   "id": "ae8d1e13",
   "metadata": {},
   "outputs": [],
   "source": [
    "link_list = []\n",
    "for link in link_tag:\n",
    "    link_list.append(topic_url + link['href'])"
   ]
  },
  {
   "cell_type": "code",
   "execution_count": 46,
   "id": "a259695d",
   "metadata": {},
   "outputs": [
    {
     "data": {
      "text/plain": [
       "['https://www.themoviedb.org/movie/movie/616037',\n",
       " 'https://www.themoviedb.org/movie/movie/507086',\n",
       " 'https://www.themoviedb.org/movie/movie/438148',\n",
       " 'https://www.themoviedb.org/movie/movie/361743',\n",
       " 'https://www.themoviedb.org/movie/movie/766507',\n",
       " 'https://www.themoviedb.org/movie/movie/756999',\n",
       " 'https://www.themoviedb.org/movie/movie/718789',\n",
       " 'https://www.themoviedb.org/movie/movie/453395',\n",
       " 'https://www.themoviedb.org/movie/movie/725201',\n",
       " 'https://www.themoviedb.org/movie/movie/762975',\n",
       " 'https://www.themoviedb.org/movie/movie/759175',\n",
       " 'https://www.themoviedb.org/movie/movie/919355',\n",
       " 'https://www.themoviedb.org/movie/movie/924482',\n",
       " 'https://www.themoviedb.org/movie/movie/634649',\n",
       " 'https://www.themoviedb.org/movie/movie/854467',\n",
       " 'https://www.themoviedb.org/movie/movie/728366',\n",
       " 'https://www.themoviedb.org/movie/movie/961484',\n",
       " 'https://www.themoviedb.org/movie/movie/675353',\n",
       " 'https://www.themoviedb.org/movie/movie/810693',\n",
       " 'https://www.themoviedb.org/movie/movie/718930']"
      ]
     },
     "execution_count": 46,
     "metadata": {},
     "output_type": "execute_result"
    }
   ],
   "source": [
    "link_list"
   ]
  },
  {
   "cell_type": "code",
   "execution_count": 49,
   "id": "224aa93b",
   "metadata": {},
   "outputs": [],
   "source": [
    "percent_tag = doc.find_all('div',class_=\"percent\")"
   ]
  },
  {
   "cell_type": "code",
   "execution_count": 66,
   "id": "7e789b3f",
   "metadata": {},
   "outputs": [],
   "source": [
    "percent = percent_tag[0].span['class']"
   ]
  },
  {
   "cell_type": "code",
   "execution_count": 73,
   "id": "94e46989",
   "metadata": {},
   "outputs": [
    {
     "data": {
      "text/plain": [
       "'68'"
      ]
     },
     "execution_count": 73,
     "metadata": {},
     "output_type": "execute_result"
    }
   ],
   "source": [
    "percent[-1][-2::]"
   ]
  },
  {
   "cell_type": "code",
   "execution_count": 74,
   "id": "af18e860",
   "metadata": {},
   "outputs": [],
   "source": [
    "percent_list = []\n",
    "for rat in percent_tag:\n",
    "    percent_list.append(rat.span['class'][-1][-2::])\n",
    "    "
   ]
  },
  {
   "cell_type": "code",
   "execution_count": 76,
   "id": "a6ccd312",
   "metadata": {},
   "outputs": [
    {
     "data": {
      "text/plain": [
       "20"
      ]
     },
     "execution_count": 76,
     "metadata": {},
     "output_type": "execute_result"
    }
   ],
   "source": [
    "len(percent_list)"
   ]
  },
  {
   "cell_type": "code",
   "execution_count": 77,
   "id": "65c15ce0",
   "metadata": {},
   "outputs": [],
   "source": [
    "import pandas as pd"
   ]
  },
  {
   "cell_type": "code",
   "execution_count": 78,
   "id": "865dc682",
   "metadata": {},
   "outputs": [],
   "source": [
    "topic = {'movie_name':movie_name,\n",
    "        'release_date':release_date1,\n",
    "        'link':link_list,\n",
    "        'percent':percent_list}"
   ]
  },
  {
   "cell_type": "code",
   "execution_count": 80,
   "id": "24d1d668",
   "metadata": {},
   "outputs": [],
   "source": [
    "df = pd.DataFrame(topic)"
   ]
  },
  {
   "cell_type": "code",
   "execution_count": 81,
   "id": "8e2d0e80",
   "metadata": {},
   "outputs": [
    {
     "data": {
      "text/html": [
       "<div>\n",
       "<style scoped>\n",
       "    .dataframe tbody tr th:only-of-type {\n",
       "        vertical-align: middle;\n",
       "    }\n",
       "\n",
       "    .dataframe tbody tr th {\n",
       "        vertical-align: top;\n",
       "    }\n",
       "\n",
       "    .dataframe thead th {\n",
       "        text-align: right;\n",
       "    }\n",
       "</style>\n",
       "<table border=\"1\" class=\"dataframe\">\n",
       "  <thead>\n",
       "    <tr style=\"text-align: right;\">\n",
       "      <th></th>\n",
       "      <th>movie_name</th>\n",
       "      <th>release_date</th>\n",
       "      <th>link</th>\n",
       "      <th>percent</th>\n",
       "    </tr>\n",
       "  </thead>\n",
       "  <tbody>\n",
       "    <tr>\n",
       "      <th>0</th>\n",
       "      <td>Thor: Love and Thunder</td>\n",
       "      <td>Jul 06, 2022</td>\n",
       "      <td>https://www.themoviedb.org/movie/movie/616037</td>\n",
       "      <td>68</td>\n",
       "    </tr>\n",
       "    <tr>\n",
       "      <th>1</th>\n",
       "      <td>Jurassic World Dominion</td>\n",
       "      <td>Jun 01, 2022</td>\n",
       "      <td>https://www.themoviedb.org/movie/movie/507086</td>\n",
       "      <td>71</td>\n",
       "    </tr>\n",
       "    <tr>\n",
       "      <th>2</th>\n",
       "      <td>Minions: The Rise of Gru</td>\n",
       "      <td>Jun 29, 2022</td>\n",
       "      <td>https://www.themoviedb.org/movie/movie/438148</td>\n",
       "      <td>78</td>\n",
       "    </tr>\n",
       "    <tr>\n",
       "      <th>3</th>\n",
       "      <td>Top Gun: Maverick</td>\n",
       "      <td>May 24, 2022</td>\n",
       "      <td>https://www.themoviedb.org/movie/movie/361743</td>\n",
       "      <td>83</td>\n",
       "    </tr>\n",
       "    <tr>\n",
       "      <th>4</th>\n",
       "      <td>Prey</td>\n",
       "      <td>Aug 02, 2022</td>\n",
       "      <td>https://www.themoviedb.org/movie/movie/766507</td>\n",
       "      <td>82</td>\n",
       "    </tr>\n",
       "    <tr>\n",
       "      <th>5</th>\n",
       "      <td>The Black Phone</td>\n",
       "      <td>Jun 22, 2022</td>\n",
       "      <td>https://www.themoviedb.org/movie/movie/756999</td>\n",
       "      <td>80</td>\n",
       "    </tr>\n",
       "    <tr>\n",
       "      <th>6</th>\n",
       "      <td>Lightyear</td>\n",
       "      <td>Jun 15, 2022</td>\n",
       "      <td>https://www.themoviedb.org/movie/movie/718789</td>\n",
       "      <td>73</td>\n",
       "    </tr>\n",
       "    <tr>\n",
       "      <th>7</th>\n",
       "      <td>Doctor Strange in the Multiverse of Madness</td>\n",
       "      <td>May 04, 2022</td>\n",
       "      <td>https://www.themoviedb.org/movie/movie/453395</td>\n",
       "      <td>75</td>\n",
       "    </tr>\n",
       "    <tr>\n",
       "      <th>8</th>\n",
       "      <td>The Gray Man</td>\n",
       "      <td>Jul 13, 2022</td>\n",
       "      <td>https://www.themoviedb.org/movie/movie/725201</td>\n",
       "      <td>71</td>\n",
       "    </tr>\n",
       "    <tr>\n",
       "      <th>9</th>\n",
       "      <td>Purple Hearts</td>\n",
       "      <td>Jul 29, 2022</td>\n",
       "      <td>https://www.themoviedb.org/movie/movie/762975</td>\n",
       "      <td>86</td>\n",
       "    </tr>\n",
       "    <tr>\n",
       "      <th>10</th>\n",
       "      <td>The Princess</td>\n",
       "      <td>Jun 16, 2022</td>\n",
       "      <td>https://www.themoviedb.org/movie/movie/759175</td>\n",
       "      <td>70</td>\n",
       "    </tr>\n",
       "    <tr>\n",
       "      <th>11</th>\n",
       "      <td>Dragon Knight</td>\n",
       "      <td>Mar 21, 2022</td>\n",
       "      <td>https://www.themoviedb.org/movie/movie/919355</td>\n",
       "      <td>69</td>\n",
       "    </tr>\n",
       "    <tr>\n",
       "      <th>12</th>\n",
       "      <td>The Ledge</td>\n",
       "      <td>Feb 18, 2022</td>\n",
       "      <td>https://www.themoviedb.org/movie/movie/924482</td>\n",
       "      <td>63</td>\n",
       "    </tr>\n",
       "    <tr>\n",
       "      <th>13</th>\n",
       "      <td>Spider-Man: No Way Home</td>\n",
       "      <td>Dec 15, 2021</td>\n",
       "      <td>https://www.themoviedb.org/movie/movie/634649</td>\n",
       "      <td>80</td>\n",
       "    </tr>\n",
       "    <tr>\n",
       "      <th>14</th>\n",
       "      <td>Indemnity</td>\n",
       "      <td>Feb 11, 2022</td>\n",
       "      <td>https://www.themoviedb.org/movie/movie/854467</td>\n",
       "      <td>69</td>\n",
       "    </tr>\n",
       "    <tr>\n",
       "      <th>15</th>\n",
       "      <td>Borrego</td>\n",
       "      <td>Jan 14, 2022</td>\n",
       "      <td>https://www.themoviedb.org/movie/movie/728366</td>\n",
       "      <td>60</td>\n",
       "    </tr>\n",
       "    <tr>\n",
       "      <th>16</th>\n",
       "      <td>Last Seen Alive</td>\n",
       "      <td>May 19, 2022</td>\n",
       "      <td>https://www.themoviedb.org/movie/movie/961484</td>\n",
       "      <td>66</td>\n",
       "    </tr>\n",
       "    <tr>\n",
       "      <th>17</th>\n",
       "      <td>Sonic the Hedgehog 2</td>\n",
       "      <td>Mar 30, 2022</td>\n",
       "      <td>https://www.themoviedb.org/movie/movie/675353</td>\n",
       "      <td>77</td>\n",
       "    </tr>\n",
       "    <tr>\n",
       "      <th>18</th>\n",
       "      <td>Jujutsu Kaisen 0</td>\n",
       "      <td>Dec 24, 2021</td>\n",
       "      <td>https://www.themoviedb.org/movie/movie/810693</td>\n",
       "      <td>78</td>\n",
       "    </tr>\n",
       "    <tr>\n",
       "      <th>19</th>\n",
       "      <td>Bullet Train</td>\n",
       "      <td>Jul 03, 2022</td>\n",
       "      <td>https://www.themoviedb.org/movie/movie/718930</td>\n",
       "      <td>73</td>\n",
       "    </tr>\n",
       "  </tbody>\n",
       "</table>\n",
       "</div>"
      ],
      "text/plain": [
       "                                     movie_name  release_date  \\\n",
       "0                        Thor: Love and Thunder  Jul 06, 2022   \n",
       "1                       Jurassic World Dominion  Jun 01, 2022   \n",
       "2                      Minions: The Rise of Gru  Jun 29, 2022   \n",
       "3                             Top Gun: Maverick  May 24, 2022   \n",
       "4                                          Prey  Aug 02, 2022   \n",
       "5                               The Black Phone  Jun 22, 2022   \n",
       "6                                     Lightyear  Jun 15, 2022   \n",
       "7   Doctor Strange in the Multiverse of Madness  May 04, 2022   \n",
       "8                                  The Gray Man  Jul 13, 2022   \n",
       "9                                 Purple Hearts  Jul 29, 2022   \n",
       "10                                 The Princess  Jun 16, 2022   \n",
       "11                                Dragon Knight  Mar 21, 2022   \n",
       "12                                    The Ledge  Feb 18, 2022   \n",
       "13                      Spider-Man: No Way Home  Dec 15, 2021   \n",
       "14                                    Indemnity  Feb 11, 2022   \n",
       "15                                      Borrego  Jan 14, 2022   \n",
       "16                              Last Seen Alive  May 19, 2022   \n",
       "17                         Sonic the Hedgehog 2  Mar 30, 2022   \n",
       "18                             Jujutsu Kaisen 0  Dec 24, 2021   \n",
       "19                                 Bullet Train  Jul 03, 2022   \n",
       "\n",
       "                                             link percent  \n",
       "0   https://www.themoviedb.org/movie/movie/616037      68  \n",
       "1   https://www.themoviedb.org/movie/movie/507086      71  \n",
       "2   https://www.themoviedb.org/movie/movie/438148      78  \n",
       "3   https://www.themoviedb.org/movie/movie/361743      83  \n",
       "4   https://www.themoviedb.org/movie/movie/766507      82  \n",
       "5   https://www.themoviedb.org/movie/movie/756999      80  \n",
       "6   https://www.themoviedb.org/movie/movie/718789      73  \n",
       "7   https://www.themoviedb.org/movie/movie/453395      75  \n",
       "8   https://www.themoviedb.org/movie/movie/725201      71  \n",
       "9   https://www.themoviedb.org/movie/movie/762975      86  \n",
       "10  https://www.themoviedb.org/movie/movie/759175      70  \n",
       "11  https://www.themoviedb.org/movie/movie/919355      69  \n",
       "12  https://www.themoviedb.org/movie/movie/924482      63  \n",
       "13  https://www.themoviedb.org/movie/movie/634649      80  \n",
       "14  https://www.themoviedb.org/movie/movie/854467      69  \n",
       "15  https://www.themoviedb.org/movie/movie/728366      60  \n",
       "16  https://www.themoviedb.org/movie/movie/961484      66  \n",
       "17  https://www.themoviedb.org/movie/movie/675353      77  \n",
       "18  https://www.themoviedb.org/movie/movie/810693      78  \n",
       "19  https://www.themoviedb.org/movie/movie/718930      73  "
      ]
     },
     "execution_count": 81,
     "metadata": {},
     "output_type": "execute_result"
    }
   ],
   "source": [
    "df"
   ]
  },
  {
   "cell_type": "code",
   "execution_count": null,
   "id": "f582042c",
   "metadata": {},
   "outputs": [],
   "source": []
  }
 ],
 "metadata": {
  "kernelspec": {
   "display_name": "Python 3 (ipykernel)",
   "language": "python",
   "name": "python3"
  },
  "language_info": {
   "codemirror_mode": {
    "name": "ipython",
    "version": 3
   },
   "file_extension": ".py",
   "mimetype": "text/x-python",
   "name": "python",
   "nbconvert_exporter": "python",
   "pygments_lexer": "ipython3",
   "version": "3.10.4"
  }
 },
 "nbformat": 4,
 "nbformat_minor": 5
}
